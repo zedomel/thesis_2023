{
 "cells": [
  {
   "cell_type": "code",
   "execution_count": 1,
   "id": "a61f23cb-2526-4c73-972a-c07ce8492525",
   "metadata": {},
   "outputs": [],
   "source": [
    "import pandas as pd\n",
    "import numpy as np"
   ]
  },
  {
   "cell_type": "code",
   "execution_count": 2,
   "id": "1ac81214-2056-47c8-9ea0-54ecf6e9b93b",
   "metadata": {},
   "outputs": [],
   "source": [
    "def read_publications(field):\n",
    "    frames = []\n",
    "    for term in interaction_terms:\n",
    "        df = pd.read_csv('data/dimensions/{}-{}.csv'.format(term,field),sep=',',header=0,skiprows=1)\n",
    "        df[\"GROUP\"] = f\"{term} interaction\"\n",
    "        frames.append(df)    \n",
    "    df = pd.concat(frames)\n",
    "    return df"
   ]
  },
  {
   "cell_type": "code",
   "execution_count": 3,
   "id": "85f1c37e-b568-415c-aed5-0a8942165da8",
   "metadata": {},
   "outputs": [],
   "source": [
    "interaction_terms = ['species', 'biotic','ecological','community','biological','interspecific']"
   ]
  },
  {
   "cell_type": "code",
   "execution_count": 4,
   "id": "0097d387-72b2-45d0-af72-ed980230e899",
   "metadata": {},
   "outputs": [
    {
     "data": {
      "text/plain": [
       "(18602, 54)"
      ]
     },
     "execution_count": 4,
     "metadata": {},
     "output_type": "execute_result"
    }
   ],
   "source": [
    "df = read_publications('biology')\n",
    "np.shape(df)"
   ]
  },
  {
   "cell_type": "code",
   "execution_count": 75,
   "id": "12ba205e-0ddd-44b5-818d-fabd289a5138",
   "metadata": {},
   "outputs": [
    {
     "data": {
      "text/plain": [
       "(17388, 54)"
      ]
     },
     "execution_count": 75,
     "metadata": {},
     "output_type": "execute_result"
    }
   ],
   "source": [
    "df_uniq = df.drop_duplicates(subset=[\"Title\", \"PubYear\"])\n",
    "np.shape(df_uniq)"
   ]
  },
  {
   "cell_type": "code",
   "execution_count": 53,
   "id": "6d7103eb-5100-481b-976c-c1a4f56aa6dc",
   "metadata": {},
   "outputs": [
    {
     "data": {
      "text/plain": [
       "GROUP\n",
       "biological interaction       1750\n",
       "biotic interaction           3655\n",
       "community interaction         565\n",
       "ecological interaction       3056\n",
       "interspecific interaction    2626\n",
       "species interaction          5736\n",
       "Name: Publication ID, dtype: int64"
      ]
     },
     "execution_count": 53,
     "metadata": {},
     "output_type": "execute_result"
    }
   ],
   "source": [
    "df_uniq.groupby(\"GROUP\")[\"Publication ID\"].count()"
   ]
  },
  {
   "cell_type": "code",
   "execution_count": 54,
   "id": "6584ab25-ab61-4d94-a206-861938eda0f3",
   "metadata": {},
   "outputs": [],
   "source": [
    "df_uniq.to_csv('data/dimensions/publications-biology.csv')"
   ]
  },
  {
   "cell_type": "code",
   "execution_count": 5,
   "id": "6fe3ddb1-6a81-4d8b-abbf-1769d24d66ed",
   "metadata": {},
   "outputs": [
    {
     "data": {
      "text/plain": [
       "(14907, 54)"
      ]
     },
     "execution_count": 5,
     "metadata": {},
     "output_type": "execute_result"
    }
   ],
   "source": [
    "df = read_publications('ecology')\n",
    "np.shape(df)"
   ]
  },
  {
   "cell_type": "code",
   "execution_count": 6,
   "id": "0cc965a5-e703-46e9-9cfe-3f4eb179247e",
   "metadata": {},
   "outputs": [
    {
     "data": {
      "text/plain": [
       "(13808, 54)"
      ]
     },
     "execution_count": 6,
     "metadata": {},
     "output_type": "execute_result"
    }
   ],
   "source": [
    "df_uniq = df.drop_duplicates(subset=[\"Title\", \"PubYear\"])\n",
    "np.shape(df_uniq)"
   ]
  },
  {
   "cell_type": "code",
   "execution_count": 105,
   "id": "cfd27d8c-a49a-4849-95d3-f6fe2088581d",
   "metadata": {},
   "outputs": [
    {
     "data": {
      "text/plain": [
       "GROUP\n",
       "biological interaction        731\n",
       "biotic interaction           3154\n",
       "community interaction         377\n",
       "ecological interaction       2391\n",
       "interspecific interaction    2201\n",
       "species interaction          4954\n",
       "Name: Publication ID, dtype: int64"
      ]
     },
     "execution_count": 105,
     "metadata": {},
     "output_type": "execute_result"
    }
   ],
   "source": [
    "df_uniq.groupby(\"GROUP\")[\"Publication ID\"].count()"
   ]
  },
  {
   "cell_type": "code",
   "execution_count": 104,
   "id": "aefb615c-05e9-4e6c-aa4d-0f69d9e5cbc9",
   "metadata": {},
   "outputs": [],
   "source": [
    "df_uniq.to_csv('data/dimensions/publications-ecology-uniq.csv')"
   ]
  },
  {
   "cell_type": "code",
   "execution_count": 10,
   "id": "c085b8a5-8235-4a74-8226-acaddb6b08b9",
   "metadata": {},
   "outputs": [
    {
     "data": {
      "text/plain": [
       "Index(['Rank', 'Publication ID', 'DOI', 'PMID', 'PMCID', 'ISBN', 'Title',\n",
       "       'Abstract', 'Acknowledgements', 'Funding', 'Source title',\n",
       "       'Anthology title', 'Publisher', 'ISSN', 'MeSH terms',\n",
       "       'Publication date', 'PubYear', 'Publication date (online)',\n",
       "       'Publication date (print)', 'Volume', 'Issue', 'Pagination',\n",
       "       'Open Access', 'Publication Type', 'Authors',\n",
       "       'Authors (Raw Affiliation)', 'Corresponding Authors',\n",
       "       'Authors Affiliations', 'Research Organizations - standardized',\n",
       "       'GRID IDs', 'City of Research organization',\n",
       "       'State of Research organization', 'Country of Research organization',\n",
       "       'Funder', 'Funder Group', 'Funder Country', 'UIDs of supporting grants',\n",
       "       'Supporting Grants', 'Times cited', 'Recent citations', 'RCR', 'FCR',\n",
       "       'Altmetric', 'Source Linkout', 'Dimensions URL',\n",
       "       'Fields of Research (ANZSRC 2020)', 'RCDC Categories',\n",
       "       'HRCS HC Categories', 'HRCS RAC Categories', 'Cancer Types',\n",
       "       'CSO Categories', 'Units of Assessment',\n",
       "       'Sustainable Development Goals', 'GROUP'],\n",
       "      dtype='object')"
      ]
     },
     "execution_count": 10,
     "metadata": {},
     "output_type": "execute_result"
    }
   ],
   "source": [
    "df.columns"
   ]
  },
  {
   "cell_type": "code",
   "execution_count": 17,
   "id": "28d7a1af-8786-48da-b9fd-786e90280449",
   "metadata": {},
   "outputs": [],
   "source": [
    "df= df.astype({\"MeSH terms\": str})"
   ]
  },
  {
   "cell_type": "code",
   "execution_count": 36,
   "id": "041fc3bd-b87a-4c1e-ab58-f63df692c8a4",
   "metadata": {},
   "outputs": [],
   "source": [
    "keywords = pd.DataFrame({\"keywords\":([k for t in df['MeSH terms'] for k in t.split(\";\") if t != \"\"])})"
   ]
  },
  {
   "cell_type": "code",
   "execution_count": 39,
   "id": "c06ce4f1-9df9-4ae4-b8ad-e0d53e3670f8",
   "metadata": {},
   "outputs": [
    {
     "data": {
      "text/plain": [
       "keywords\n",
       " Acanthocephala        1\n",
       " Accidents             1\n",
       " Acclimatization       2\n",
       " Acids                 1\n",
       " Acoustics             4\n",
       "                    ... \n",
       "Sympatry               1\n",
       "Trees                  2\n",
       "Trichodesmium          1\n",
       "Triticum               1\n",
       "nan                 9571\n",
       "Name: keywords, Length: 3092, dtype: int64"
      ]
     },
     "execution_count": 39,
     "metadata": {},
     "output_type": "execute_result"
    }
   ],
   "source": [
    "keywords.groupby('keywords')[\"keywords\"].count()"
   ]
  }
 ],
 "metadata": {
  "kernelspec": {
   "display_name": ".myenv",
   "language": "python",
   "name": ".myenv"
  },
  "language_info": {
   "codemirror_mode": {
    "name": "ipython",
    "version": 3
   },
   "file_extension": ".py",
   "mimetype": "text/x-python",
   "name": "python",
   "nbconvert_exporter": "python",
   "pygments_lexer": "ipython3",
   "version": "3.8.10"
  }
 },
 "nbformat": 4,
 "nbformat_minor": 5
}
