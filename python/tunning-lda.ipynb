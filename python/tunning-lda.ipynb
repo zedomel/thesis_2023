{
 "cells": [
  {
   "cell_type": "markdown",
   "id": "70b1d7b4-bd64-4dcf-918e-a3c7c601009e",
   "metadata": {},
   "source": [
    "# LDA Tunning"
   ]
  },
  {
   "cell_type": "code",
   "execution_count": 99,
   "id": "94bf82e9-c17a-4169-bf4f-7c976b09652d",
   "metadata": {},
   "outputs": [],
   "source": [
    "import re\n",
    "import nltk\n",
    "import spacy\n",
    "import gensim\n",
    "import nlp\n",
    "import pandas as pd\n",
    "import numpy as np\n",
    "import pickle"
   ]
  },
  {
   "cell_type": "code",
   "execution_count": 100,
   "id": "505970d1-afa8-45c9-92e7-ad2e1bba92e6",
   "metadata": {},
   "outputs": [],
   "source": [
    "import gensim.corpora as corpora\n",
    "from gensim.utils import simple_preprocess\n",
    "from gensim.models import CoherenceModel\n",
    "import matplotlib.pyplot as plt\n",
    "%matplotlib inline"
   ]
  },
  {
   "cell_type": "markdown",
   "id": "e461477e-6850-4670-8996-0af4f8a38f71",
   "metadata": {},
   "source": [
    "## Loading data "
   ]
  },
  {
   "cell_type": "code",
   "execution_count": 101,
   "id": "3ad23e5d-0d2d-4340-a471-b37f324b0bbe",
   "metadata": {},
   "outputs": [
    {
     "name": "stderr",
     "output_type": "stream",
     "text": [
      "[nltk_data] Downloading package stopwords to\n",
      "[nltk_data]     /home/externo/joseas/nltk_data...\n",
      "[nltk_data]   Package stopwords is already up-to-date!\n"
     ]
    },
    {
     "data": {
      "text/plain": [
       "True"
      ]
     },
     "execution_count": 101,
     "metadata": {},
     "output_type": "execute_result"
    }
   ],
   "source": [
    "nltk.download('stopwords')"
   ]
  },
  {
   "cell_type": "code",
   "execution_count": 102,
   "id": "ec7e0a0a-55a3-471f-8d35-26fa70db4656",
   "metadata": {},
   "outputs": [
    {
     "data": {
      "text/plain": [
       "(13808, 55)"
      ]
     },
     "execution_count": 102,
     "metadata": {},
     "output_type": "execute_result"
    }
   ],
   "source": [
    "df = pd.read_csv(\"data/dimensions/publications-ecology-uniq.csv\")\n",
    "np.shape(df)"
   ]
  },
  {
   "cell_type": "code",
   "execution_count": 103,
   "id": "c6db83be-a0e9-4256-8ab3-d660ec6b75cb",
   "metadata": {},
   "outputs": [
    {
     "data": {
      "text/html": [
       "<div>\n",
       "<style scoped>\n",
       "    .dataframe tbody tr th:only-of-type {\n",
       "        vertical-align: middle;\n",
       "    }\n",
       "\n",
       "    .dataframe tbody tr th {\n",
       "        vertical-align: top;\n",
       "    }\n",
       "\n",
       "    .dataframe thead th {\n",
       "        text-align: right;\n",
       "    }\n",
       "</style>\n",
       "<table border=\"1\" class=\"dataframe\">\n",
       "  <thead>\n",
       "    <tr style=\"text-align: right;\">\n",
       "      <th></th>\n",
       "      <th>Unnamed: 0</th>\n",
       "      <th>Rank</th>\n",
       "      <th>Publication ID</th>\n",
       "      <th>DOI</th>\n",
       "      <th>PMID</th>\n",
       "      <th>PMCID</th>\n",
       "      <th>ISBN</th>\n",
       "      <th>Title</th>\n",
       "      <th>Abstract</th>\n",
       "      <th>Acknowledgements</th>\n",
       "      <th>...</th>\n",
       "      <th>Dimensions URL</th>\n",
       "      <th>Fields of Research (ANZSRC 2020)</th>\n",
       "      <th>RCDC Categories</th>\n",
       "      <th>HRCS HC Categories</th>\n",
       "      <th>HRCS RAC Categories</th>\n",
       "      <th>Cancer Types</th>\n",
       "      <th>CSO Categories</th>\n",
       "      <th>Units of Assessment</th>\n",
       "      <th>Sustainable Development Goals</th>\n",
       "      <th>GROUP</th>\n",
       "    </tr>\n",
       "  </thead>\n",
       "  <tbody>\n",
       "    <tr>\n",
       "      <th>0</th>\n",
       "      <td>0</td>\n",
       "      <td>3366</td>\n",
       "      <td>pub.1148151862</td>\n",
       "      <td>10.1093/icb/icac055</td>\n",
       "      <td>35612972.0</td>\n",
       "      <td>NaN</td>\n",
       "      <td>NaN</td>\n",
       "      <td>An Integrative Perspective On the Mechanistic ...</td>\n",
       "      <td>It has long been known that the outcome of spe...</td>\n",
       "      <td>NaN</td>\n",
       "      <td>...</td>\n",
       "      <td>https://app.dimensions.ai/details/publication/...</td>\n",
       "      <td>31 Biological Sciences; 3103 Ecology</td>\n",
       "      <td>NaN</td>\n",
       "      <td>NaN</td>\n",
       "      <td>NaN</td>\n",
       "      <td>NaN</td>\n",
       "      <td>NaN</td>\n",
       "      <td>A05 Biological Sciences</td>\n",
       "      <td>13 Climate Action</td>\n",
       "      <td>species interaction</td>\n",
       "    </tr>\n",
       "    <tr>\n",
       "      <th>1</th>\n",
       "      <td>1</td>\n",
       "      <td>3161</td>\n",
       "      <td>pub.1140217916</td>\n",
       "      <td>10.1086/716724</td>\n",
       "      <td>34762574.0</td>\n",
       "      <td>NaN</td>\n",
       "      <td>NaN</td>\n",
       "      <td>Species Interactions Limit the Predictability ...</td>\n",
       "      <td>Predicting how ecological communities will res...</td>\n",
       "      <td>NaN</td>\n",
       "      <td>...</td>\n",
       "      <td>https://app.dimensions.ai/details/publication/...</td>\n",
       "      <td>31 Biological Sciences; 3103 Ecology</td>\n",
       "      <td>NaN</td>\n",
       "      <td>NaN</td>\n",
       "      <td>NaN</td>\n",
       "      <td>NaN</td>\n",
       "      <td>NaN</td>\n",
       "      <td>A05 Biological Sciences</td>\n",
       "      <td>14 Life Below Water</td>\n",
       "      <td>species interaction</td>\n",
       "    </tr>\n",
       "    <tr>\n",
       "      <th>2</th>\n",
       "      <td>2</td>\n",
       "      <td>3133</td>\n",
       "      <td>pub.1152523368</td>\n",
       "      <td>10.1111/ele.14139</td>\n",
       "      <td>36335559.0</td>\n",
       "      <td>PMC10099232</td>\n",
       "      <td>NaN</td>\n",
       "      <td>Resetting our expectations for parasites and t...</td>\n",
       "      <td>Despite the ubiquitous nature of parasitism, h...</td>\n",
       "      <td>We thank the authors for supplying data. We al...</td>\n",
       "      <td>...</td>\n",
       "      <td>https://app.dimensions.ai/details/publication/...</td>\n",
       "      <td>31 Biological Sciences; 3103 Ecology; 41 Envir...</td>\n",
       "      <td>Infectious Diseases</td>\n",
       "      <td>NaN</td>\n",
       "      <td>2.1 Biological and endogenous factors</td>\n",
       "      <td>NaN</td>\n",
       "      <td>NaN</td>\n",
       "      <td>A05 Biological Sciences</td>\n",
       "      <td>14 Life Below Water</td>\n",
       "      <td>species interaction</td>\n",
       "    </tr>\n",
       "    <tr>\n",
       "      <th>3</th>\n",
       "      <td>3</td>\n",
       "      <td>3130</td>\n",
       "      <td>pub.1145194743</td>\n",
       "      <td>10.1111/ele.13977</td>\n",
       "      <td>35106910.0</td>\n",
       "      <td>PMC9543015</td>\n",
       "      <td>NaN</td>\n",
       "      <td>Disentangling key species interactions in dive...</td>\n",
       "      <td>Modelling species interactions in diverse comm...</td>\n",
       "      <td>This paper is a joint effort of the working gr...</td>\n",
       "      <td>...</td>\n",
       "      <td>https://app.dimensions.ai/details/publication/...</td>\n",
       "      <td>31 Biological Sciences; 3103 Ecology</td>\n",
       "      <td>NaN</td>\n",
       "      <td>NaN</td>\n",
       "      <td>NaN</td>\n",
       "      <td>NaN</td>\n",
       "      <td>NaN</td>\n",
       "      <td>A05 Biological Sciences</td>\n",
       "      <td>NaN</td>\n",
       "      <td>species interaction</td>\n",
       "    </tr>\n",
       "    <tr>\n",
       "      <th>4</th>\n",
       "      <td>4</td>\n",
       "      <td>3099</td>\n",
       "      <td>pub.1149534290</td>\n",
       "      <td>10.1111/nph.18384</td>\n",
       "      <td>35842790.0</td>\n",
       "      <td>PMC9804646</td>\n",
       "      <td>NaN</td>\n",
       "      <td>Impact of warmer and drier conditions on tree ...</td>\n",
       "      <td>Increased temperature and prolonged soil moist...</td>\n",
       "      <td>MD‐G and CG were supported by the Swiss Nation...</td>\n",
       "      <td>...</td>\n",
       "      <td>https://app.dimensions.ai/details/publication/...</td>\n",
       "      <td>31 Biological Sciences; 3103 Ecology; 3108 Pla...</td>\n",
       "      <td>NaN</td>\n",
       "      <td>NaN</td>\n",
       "      <td>NaN</td>\n",
       "      <td>NaN</td>\n",
       "      <td>NaN</td>\n",
       "      <td>A05 Biological Sciences</td>\n",
       "      <td>13 Climate Action</td>\n",
       "      <td>species interaction</td>\n",
       "    </tr>\n",
       "    <tr>\n",
       "      <th>...</th>\n",
       "      <td>...</td>\n",
       "      <td>...</td>\n",
       "      <td>...</td>\n",
       "      <td>...</td>\n",
       "      <td>...</td>\n",
       "      <td>...</td>\n",
       "      <td>...</td>\n",
       "      <td>...</td>\n",
       "      <td>...</td>\n",
       "      <td>...</td>\n",
       "      <td>...</td>\n",
       "      <td>...</td>\n",
       "      <td>...</td>\n",
       "      <td>...</td>\n",
       "      <td>...</td>\n",
       "      <td>...</td>\n",
       "      <td>...</td>\n",
       "      <td>...</td>\n",
       "      <td>...</td>\n",
       "      <td>...</td>\n",
       "      <td>...</td>\n",
       "    </tr>\n",
       "    <tr>\n",
       "      <th>13803</th>\n",
       "      <td>2619</td>\n",
       "      <td>297</td>\n",
       "      <td>pub.1005057415</td>\n",
       "      <td>10.1046/j.1523-1739.2000.98081.x</td>\n",
       "      <td>NaN</td>\n",
       "      <td>NaN</td>\n",
       "      <td>NaN</td>\n",
       "      <td>A Survey and Overview of Habitat Fragmentation...</td>\n",
       "      <td>Abstract: Habitat destruction and fragmentatio...</td>\n",
       "      <td>We thank all those investigators who provided ...</td>\n",
       "      <td>...</td>\n",
       "      <td>https://app.dimensions.ai/details/publication/...</td>\n",
       "      <td>31 Biological Sciences; 3103 Ecology; 3109 Zoo...</td>\n",
       "      <td>NaN</td>\n",
       "      <td>NaN</td>\n",
       "      <td>NaN</td>\n",
       "      <td>NaN</td>\n",
       "      <td>NaN</td>\n",
       "      <td>NaN</td>\n",
       "      <td>NaN</td>\n",
       "      <td>interspecific interaction</td>\n",
       "    </tr>\n",
       "    <tr>\n",
       "      <th>13804</th>\n",
       "      <td>2620</td>\n",
       "      <td>284</td>\n",
       "      <td>pub.1034372806</td>\n",
       "      <td>10.2478/v10208-011-0015-3</td>\n",
       "      <td>NaN</td>\n",
       "      <td>NaN</td>\n",
       "      <td>NaN</td>\n",
       "      <td>A gradient analytic perspective on distributio...</td>\n",
       "      <td>Abstract After massive proliferation over the ...</td>\n",
       "      <td>NaN</td>\n",
       "      <td>...</td>\n",
       "      <td>https://app.dimensions.ai/details/publication/...</td>\n",
       "      <td>31 Biological Sciences; 3103 Ecology</td>\n",
       "      <td>NaN</td>\n",
       "      <td>NaN</td>\n",
       "      <td>NaN</td>\n",
       "      <td>NaN</td>\n",
       "      <td>NaN</td>\n",
       "      <td>A05 Biological Sciences</td>\n",
       "      <td>NaN</td>\n",
       "      <td>interspecific interaction</td>\n",
       "    </tr>\n",
       "    <tr>\n",
       "      <th>13805</th>\n",
       "      <td>2621</td>\n",
       "      <td>261</td>\n",
       "      <td>pub.1029922063</td>\n",
       "      <td>10.3727/015613880791573853</td>\n",
       "      <td>NaN</td>\n",
       "      <td>NaN</td>\n",
       "      <td>NaN</td>\n",
       "      <td>A Comparison of Two Populations of the Grey-cr...</td>\n",
       "      <td>Group-breeding is defined as breeding behaviou...</td>\n",
       "      <td>NaN</td>\n",
       "      <td>...</td>\n",
       "      <td>https://app.dimensions.ai/details/publication/...</td>\n",
       "      <td>31 Biological Sciences; 3103 Ecology; 3109 Zoo...</td>\n",
       "      <td>NaN</td>\n",
       "      <td>NaN</td>\n",
       "      <td>NaN</td>\n",
       "      <td>NaN</td>\n",
       "      <td>NaN</td>\n",
       "      <td>A06 Agriculture, Veterinary and Food Science</td>\n",
       "      <td>NaN</td>\n",
       "      <td>interspecific interaction</td>\n",
       "    </tr>\n",
       "    <tr>\n",
       "      <th>13806</th>\n",
       "      <td>2622</td>\n",
       "      <td>252</td>\n",
       "      <td>pub.1147285073</td>\n",
       "      <td>10.1111/1365-2745.13895</td>\n",
       "      <td>NaN</td>\n",
       "      <td>NaN</td>\n",
       "      <td>NaN</td>\n",
       "      <td>Temporal stabilizing effects of species richne...</td>\n",
       "      <td>The extent to which individuals experience int...</td>\n",
       "      <td>ACKNOWLEDGEMENTS We are grateful to all who as...</td>\n",
       "      <td>...</td>\n",
       "      <td>https://app.dimensions.ai/details/publication/...</td>\n",
       "      <td>31 Biological Sciences; 3103 Ecology</td>\n",
       "      <td>NaN</td>\n",
       "      <td>NaN</td>\n",
       "      <td>NaN</td>\n",
       "      <td>NaN</td>\n",
       "      <td>NaN</td>\n",
       "      <td>A05 Biological Sciences</td>\n",
       "      <td>14 Life Below Water</td>\n",
       "      <td>interspecific interaction</td>\n",
       "    </tr>\n",
       "    <tr>\n",
       "      <th>13807</th>\n",
       "      <td>2623</td>\n",
       "      <td>244</td>\n",
       "      <td>pub.1069664785</td>\n",
       "      <td>10.2307/1942387</td>\n",
       "      <td>NaN</td>\n",
       "      <td>NaN</td>\n",
       "      <td>NaN</td>\n",
       "      <td>Primary Productivity, Chemo‐organotrophy, and ...</td>\n",
       "      <td>Epiphytic algal and bacterial in situ communit...</td>\n",
       "      <td>NaN</td>\n",
       "      <td>...</td>\n",
       "      <td>https://app.dimensions.ai/details/publication/...</td>\n",
       "      <td>31 Biological Sciences; 3103 Ecology; 3108 Pla...</td>\n",
       "      <td>NaN</td>\n",
       "      <td>NaN</td>\n",
       "      <td>NaN</td>\n",
       "      <td>NaN</td>\n",
       "      <td>NaN</td>\n",
       "      <td>C14 Geography and Environmental Studies</td>\n",
       "      <td>NaN</td>\n",
       "      <td>interspecific interaction</td>\n",
       "    </tr>\n",
       "  </tbody>\n",
       "</table>\n",
       "<p>13808 rows × 55 columns</p>\n",
       "</div>"
      ],
      "text/plain": [
       "       Unnamed: 0  Rank  Publication ID                               DOI  \\\n",
       "0               0  3366  pub.1148151862               10.1093/icb/icac055   \n",
       "1               1  3161  pub.1140217916                    10.1086/716724   \n",
       "2               2  3133  pub.1152523368                 10.1111/ele.14139   \n",
       "3               3  3130  pub.1145194743                 10.1111/ele.13977   \n",
       "4               4  3099  pub.1149534290                 10.1111/nph.18384   \n",
       "...           ...   ...             ...                               ...   \n",
       "13803        2619   297  pub.1005057415  10.1046/j.1523-1739.2000.98081.x   \n",
       "13804        2620   284  pub.1034372806         10.2478/v10208-011-0015-3   \n",
       "13805        2621   261  pub.1029922063        10.3727/015613880791573853   \n",
       "13806        2622   252  pub.1147285073           10.1111/1365-2745.13895   \n",
       "13807        2623   244  pub.1069664785                   10.2307/1942387   \n",
       "\n",
       "             PMID        PMCID  ISBN  \\\n",
       "0      35612972.0          NaN   NaN   \n",
       "1      34762574.0          NaN   NaN   \n",
       "2      36335559.0  PMC10099232   NaN   \n",
       "3      35106910.0   PMC9543015   NaN   \n",
       "4      35842790.0   PMC9804646   NaN   \n",
       "...           ...          ...   ...   \n",
       "13803         NaN          NaN   NaN   \n",
       "13804         NaN          NaN   NaN   \n",
       "13805         NaN          NaN   NaN   \n",
       "13806         NaN          NaN   NaN   \n",
       "13807         NaN          NaN   NaN   \n",
       "\n",
       "                                                   Title  \\\n",
       "0      An Integrative Perspective On the Mechanistic ...   \n",
       "1      Species Interactions Limit the Predictability ...   \n",
       "2      Resetting our expectations for parasites and t...   \n",
       "3      Disentangling key species interactions in dive...   \n",
       "4      Impact of warmer and drier conditions on tree ...   \n",
       "...                                                  ...   \n",
       "13803  A Survey and Overview of Habitat Fragmentation...   \n",
       "13804  A gradient analytic perspective on distributio...   \n",
       "13805  A Comparison of Two Populations of the Grey-cr...   \n",
       "13806  Temporal stabilizing effects of species richne...   \n",
       "13807  Primary Productivity, Chemo‐organotrophy, and ...   \n",
       "\n",
       "                                                Abstract  \\\n",
       "0      It has long been known that the outcome of spe...   \n",
       "1      Predicting how ecological communities will res...   \n",
       "2      Despite the ubiquitous nature of parasitism, h...   \n",
       "3      Modelling species interactions in diverse comm...   \n",
       "4      Increased temperature and prolonged soil moist...   \n",
       "...                                                  ...   \n",
       "13803  Abstract: Habitat destruction and fragmentatio...   \n",
       "13804  Abstract After massive proliferation over the ...   \n",
       "13805  Group-breeding is defined as breeding behaviou...   \n",
       "13806  The extent to which individuals experience int...   \n",
       "13807  Epiphytic algal and bacterial in situ communit...   \n",
       "\n",
       "                                        Acknowledgements  ...  \\\n",
       "0                                                    NaN  ...   \n",
       "1                                                    NaN  ...   \n",
       "2      We thank the authors for supplying data. We al...  ...   \n",
       "3      This paper is a joint effort of the working gr...  ...   \n",
       "4      MD‐G and CG were supported by the Swiss Nation...  ...   \n",
       "...                                                  ...  ...   \n",
       "13803  We thank all those investigators who provided ...  ...   \n",
       "13804                                                NaN  ...   \n",
       "13805                                                NaN  ...   \n",
       "13806  ACKNOWLEDGEMENTS We are grateful to all who as...  ...   \n",
       "13807                                                NaN  ...   \n",
       "\n",
       "                                          Dimensions URL  \\\n",
       "0      https://app.dimensions.ai/details/publication/...   \n",
       "1      https://app.dimensions.ai/details/publication/...   \n",
       "2      https://app.dimensions.ai/details/publication/...   \n",
       "3      https://app.dimensions.ai/details/publication/...   \n",
       "4      https://app.dimensions.ai/details/publication/...   \n",
       "...                                                  ...   \n",
       "13803  https://app.dimensions.ai/details/publication/...   \n",
       "13804  https://app.dimensions.ai/details/publication/...   \n",
       "13805  https://app.dimensions.ai/details/publication/...   \n",
       "13806  https://app.dimensions.ai/details/publication/...   \n",
       "13807  https://app.dimensions.ai/details/publication/...   \n",
       "\n",
       "                        Fields of Research (ANZSRC 2020)      RCDC Categories  \\\n",
       "0                   31 Biological Sciences; 3103 Ecology                  NaN   \n",
       "1                   31 Biological Sciences; 3103 Ecology                  NaN   \n",
       "2      31 Biological Sciences; 3103 Ecology; 41 Envir...  Infectious Diseases   \n",
       "3                   31 Biological Sciences; 3103 Ecology                  NaN   \n",
       "4      31 Biological Sciences; 3103 Ecology; 3108 Pla...                  NaN   \n",
       "...                                                  ...                  ...   \n",
       "13803  31 Biological Sciences; 3103 Ecology; 3109 Zoo...                  NaN   \n",
       "13804               31 Biological Sciences; 3103 Ecology                  NaN   \n",
       "13805  31 Biological Sciences; 3103 Ecology; 3109 Zoo...                  NaN   \n",
       "13806               31 Biological Sciences; 3103 Ecology                  NaN   \n",
       "13807  31 Biological Sciences; 3103 Ecology; 3108 Pla...                  NaN   \n",
       "\n",
       "      HRCS HC Categories                    HRCS RAC Categories Cancer Types  \\\n",
       "0                    NaN                                    NaN          NaN   \n",
       "1                    NaN                                    NaN          NaN   \n",
       "2                    NaN  2.1 Biological and endogenous factors          NaN   \n",
       "3                    NaN                                    NaN          NaN   \n",
       "4                    NaN                                    NaN          NaN   \n",
       "...                  ...                                    ...          ...   \n",
       "13803                NaN                                    NaN          NaN   \n",
       "13804                NaN                                    NaN          NaN   \n",
       "13805                NaN                                    NaN          NaN   \n",
       "13806                NaN                                    NaN          NaN   \n",
       "13807                NaN                                    NaN          NaN   \n",
       "\n",
       "      CSO Categories                           Units of Assessment  \\\n",
       "0                NaN                       A05 Biological Sciences   \n",
       "1                NaN                       A05 Biological Sciences   \n",
       "2                NaN                       A05 Biological Sciences   \n",
       "3                NaN                       A05 Biological Sciences   \n",
       "4                NaN                       A05 Biological Sciences   \n",
       "...              ...                                           ...   \n",
       "13803            NaN                                           NaN   \n",
       "13804            NaN                       A05 Biological Sciences   \n",
       "13805            NaN  A06 Agriculture, Veterinary and Food Science   \n",
       "13806            NaN                       A05 Biological Sciences   \n",
       "13807            NaN       C14 Geography and Environmental Studies   \n",
       "\n",
       "      Sustainable Development Goals                      GROUP  \n",
       "0                 13 Climate Action        species interaction  \n",
       "1               14 Life Below Water        species interaction  \n",
       "2               14 Life Below Water        species interaction  \n",
       "3                               NaN        species interaction  \n",
       "4                 13 Climate Action        species interaction  \n",
       "...                             ...                        ...  \n",
       "13803                           NaN  interspecific interaction  \n",
       "13804                           NaN  interspecific interaction  \n",
       "13805                           NaN  interspecific interaction  \n",
       "13806           14 Life Below Water  interspecific interaction  \n",
       "13807                           NaN  interspecific interaction  \n",
       "\n",
       "[13808 rows x 55 columns]"
      ]
     },
     "execution_count": 103,
     "metadata": {},
     "output_type": "execute_result"
    }
   ],
   "source": [
    "df"
   ]
  },
  {
   "cell_type": "code",
   "execution_count": 104,
   "id": "03c316f2-881e-47aa-a6b2-1631317288d1",
   "metadata": {},
   "outputs": [
    {
     "data": {
      "text/plain": [
       "[\"An Integrative Perspective On the Mechanistic Basis of Context- Dependent Species Interactions. It has long been known that the outcome of species interactions depends on the environmental context in which they occur. Climate change research has sparked a renewed interest in context-dependent species interactions because rapidly changing abiotic environments will cause species interactions to occur in novel contexts and researchers must incorporate this in their predictions of species' responses to climate change. Here, we argue that predicting how the environment will alter the outcome of species interactions requires an integrative biology approach that focuses on the traits, mechanisms, and processes that bridge disciplines such as physiology, biomechanics, ecology, and evolutionary biology. Specifically, we advocate for quantifying how species differ in their tolerance and performance to both environmental challenges independent of species interactions, and in interactions with other species as a function of the environment. Such an approach increases our understanding of the mechanisms underlying outcomes of species interactions across different environmental contexts. This understanding will help determine how the outcome of species interactions affects the relative abundance and distribution of the interacting species in nature. A general theme that emerges from this perspective is that species are unable to maintain high levels of performance across different environmental contexts because of trade-offs between physiological tolerance to environmental challenges and performance in species interactions. Thus, an integrative biology paradigm that focuses on the trade-offs across environments, the physiological mechanisms involved, and how the ecological context impacts the outcome of species interactions provides a stronger framework to understand why species interactions are context dependent.\",\n",
       " 'Species Interactions Limit the Predictability of Community Responses to Environmental Change. Predicting how ecological communities will respond to environmental change is challenging but highly relevant in this era of global change. Ecologists commonly use current spatial relationships between species and environmental conditions to make predictions about the future. This assumes that species will track conditions by shifting their distributions. However, theory and experimental evidence suggest that species interactions prevent communities from predictably tracking temporal changes in environmental conditions on the basis of current spatial relationships between species and environmental gradients. We tested this hypothesis by assessing the dynamics of protist species in replicated two-patch microcosm landscapes that experienced different regimes of spatial and temporal environmental heterogeneity (light vs. dark). Populations were kept in monocultures or polycultures to assess the effect of species interactions. In monocultures, abundances were predictable on the basis of current environmental conditions, regardless of whether the populations had experienced temporal environmental change. But in polycultures, abundances also depended on the history of the environmental conditions experienced. This suggests that because of species interactions, communities should respond differently to spatial versus temporal environmental changes. Thus, species interactions likely reduce the accuracy of predictions about future communities that are based on current spatial relationships between species and the environment.']"
      ]
     },
     "execution_count": 104,
     "metadata": {},
     "output_type": "execute_result"
    }
   ],
   "source": [
    "df[\"text\"] = df[\"Title\"] + \" \" + df[\"Abstract\"]\n",
    "data = df.text.values.tolist()\n",
    "data[:2]"
   ]
  },
  {
   "cell_type": "markdown",
   "id": "4d25c2b5-0aeb-4731-9a46-3d58f169e626",
   "metadata": {},
   "source": [
    "## Preprocessing and cleaning"
   ]
  },
  {
   "cell_type": "code",
   "execution_count": 105,
   "id": "b84cc7ef-3bc0-4d58-b0b7-79206f54fbb6",
   "metadata": {},
   "outputs": [
    {
     "data": {
      "text/plain": [
       "13808"
      ]
     },
     "execution_count": 105,
     "metadata": {},
     "output_type": "execute_result"
    }
   ],
   "source": [
    "len(data)"
   ]
  },
  {
   "cell_type": "code",
   "execution_count": 106,
   "id": "cbb80c87-b46c-414f-9859-8b5d226952a0",
   "metadata": {},
   "outputs": [
    {
     "data": {
      "text/plain": [
       "[\"An Integrative Perspective On the Mechanistic Basis of Context- Dependent Species Interactions. It has long been known that the outcome of species interactions depends on the environmental context in which they occur. Climate change research has sparked a renewed interest in context-dependent species interactions because rapidly changing abiotic environments will cause species interactions to occur in novel contexts and researchers must incorporate this in their predictions of species' responses to climate change. Here, we argue that predicting how the environment will alter the outcome of species interactions requires an integrative biology approach that focuses on the traits, mechanisms, and processes that bridge disciplines such as physiology, biomechanics, ecology, and evolutionary biology. Specifically, we advocate for quantifying how species differ in their tolerance and performance to both environmental challenges independent of species interactions, and in interactions with other species as a function of the environment. Such an approach increases our understanding of the mechanisms underlying outcomes of species interactions across different environmental contexts. This understanding will help determine how the outcome of species interactions affects the relative abundance and distribution of the interacting species in nature. A general theme that emerges from this perspective is that species are unable to maintain high levels of performance across different environmental contexts because of trade-offs between physiological tolerance to environmental challenges and performance in species interactions. Thus, an integrative biology paradigm that focuses on the trade-offs across environments, the physiological mechanisms involved, and how the ecological context impacts the outcome of species interactions provides a stronger framework to understand why species interactions are context dependent.\",\n",
       " 'Species Interactions Limit the Predictability of Community Responses to Environmental Change. Predicting how ecological communities will respond to environmental change is challenging but highly relevant in this era of global change. Ecologists commonly use current spatial relationships between species and environmental conditions to make predictions about the future. This assumes that species will track conditions by shifting their distributions. However, theory and experimental evidence suggest that species interactions prevent communities from predictably tracking temporal changes in environmental conditions on the basis of current spatial relationships between species and environmental gradients. We tested this hypothesis by assessing the dynamics of protist species in replicated two-patch microcosm landscapes that experienced different regimes of spatial and temporal environmental heterogeneity (light vs. dark). Populations were kept in monocultures or polycultures to assess the effect of species interactions. In monocultures, abundances were predictable on the basis of current environmental conditions, regardless of whether the populations had experienced temporal environmental change. But in polycultures, abundances also depended on the history of the environmental conditions experienced. This suggests that because of species interactions, communities should respond differently to spatial versus temporal environmental changes. Thus, species interactions likely reduce the accuracy of predictions about future communities that are based on current spatial relationships between species and the environment.']"
      ]
     },
     "execution_count": 106,
     "metadata": {},
     "output_type": "execute_result"
    }
   ],
   "source": [
    "data[:2]"
   ]
  },
  {
   "cell_type": "code",
   "execution_count": 107,
   "id": "ca8e8ae8-e716-4463-8c20-0ca9f42b5807",
   "metadata": {},
   "outputs": [],
   "source": [
    "# Remove new line characters\n",
    "data = [re.sub(r'\\s+', ' ', str(i)) for i in data]"
   ]
  },
  {
   "cell_type": "code",
   "execution_count": 108,
   "id": "51cebbe7-6521-45bb-bd56-985db36ae10c",
   "metadata": {},
   "outputs": [],
   "source": [
    "data = [re.sub(\"'\", \"\", i) for i in data]"
   ]
  },
  {
   "cell_type": "code",
   "execution_count": 109,
   "id": "4a36eed0-275c-4d9d-acd4-3faf473ccbb0",
   "metadata": {},
   "outputs": [],
   "source": [
    "def sent_to_words(sentences):\n",
    "    for sentence in sentences:\n",
    "        yield(gensim.utils.simple_preprocess(str(sentence), deacc=True, min_len=4))"
   ]
  },
  {
   "cell_type": "code",
   "execution_count": 110,
   "id": "ec0ad8ae-4a49-4b5a-bef1-7ef48c938172",
   "metadata": {},
   "outputs": [],
   "source": [
    "data_words = list(sent_to_words(data))"
   ]
  },
  {
   "cell_type": "code",
   "execution_count": 111,
   "id": "7b227a25-c19e-47c4-8a79-bd17fc770814",
   "metadata": {},
   "outputs": [
    {
     "name": "stdout",
     "output_type": "stream",
     "text": [
      "['species', 'interactions', 'limit', 'predictability', 'community', 'responses', 'environmental', 'change', 'predicting', 'ecological', 'communities', 'will', 'respond', 'environmental', 'change', 'challenging', 'highly', 'relevant', 'this', 'global', 'change', 'ecologists', 'commonly', 'current', 'spatial', 'relationships', 'between', 'species', 'environmental', 'conditions', 'make', 'predictions', 'about', 'future', 'this', 'assumes', 'that', 'species', 'will', 'track', 'conditions', 'shifting', 'their', 'distributions', 'however', 'theory', 'experimental', 'evidence', 'suggest', 'that', 'species', 'interactions', 'prevent', 'communities', 'from', 'predictably', 'tracking', 'temporal', 'changes', 'environmental', 'conditions', 'basis', 'current', 'spatial', 'relationships', 'between', 'species', 'environmental', 'gradients', 'tested', 'this', 'hypothesis', 'assessing', 'dynamics', 'protist', 'species', 'replicated', 'patch', 'microcosm', 'landscapes', 'that', 'experienced', 'different', 'regimes', 'spatial', 'temporal', 'environmental', 'heterogeneity', 'light', 'dark', 'populations', 'were', 'kept', 'monocultures', 'polycultures', 'assess', 'effect', 'species', 'interactions', 'monocultures', 'abundances', 'were', 'predictable', 'basis', 'current', 'environmental', 'conditions', 'regardless', 'whether', 'populations', 'experienced', 'temporal', 'environmental', 'change', 'polycultures', 'abundances', 'also', 'depended', 'history', 'environmental', 'conditions', 'experienced', 'this', 'suggests', 'that', 'because', 'species', 'interactions', 'communities', 'should', 'respond', 'differently', 'spatial', 'versus', 'temporal', 'environmental', 'changes', 'thus', 'species', 'interactions', 'likely', 'reduce', 'accuracy', 'predictions', 'about', 'future', 'communities', 'that', 'based', 'current', 'spatial', 'relationships', 'between', 'species', 'environment']\n"
     ]
    }
   ],
   "source": [
    "print(data_words[1])"
   ]
  },
  {
   "cell_type": "code",
   "execution_count": 112,
   "id": "470b2151-6680-4196-9353-b0d2e5266aa9",
   "metadata": {},
   "outputs": [
    {
     "data": {
      "text/plain": [
       "['also',\n",
       " 'thus',\n",
       " 'depends',\n",
       " 'plant',\n",
       " 'effect',\n",
       " 'population',\n",
       " 'study',\n",
       " 'habitat',\n",
       " 'biotic',\n",
       " 'species',\n",
       " 'ecological',\n",
       " 'community',\n",
       " 'interspecific',\n",
       " 'inter-specific',\n",
       " 'biological']"
      ]
     },
     "execution_count": 112,
     "metadata": {},
     "output_type": "execute_result"
    }
   ],
   "source": [
    "with open('stopwords.txt', 'r') as f:\n",
    "    custom_stop_words = f.read().split(\"\\n\")\n",
    "custom_stop_words[:15]"
   ]
  },
  {
   "cell_type": "code",
   "execution_count": 113,
   "id": "71f20d0d-3b84-4f64-a689-1fef9f24f63f",
   "metadata": {},
   "outputs": [],
   "source": [
    "stop_words = nltk.corpus.stopwords.words(\"english\")\n",
    "def remove_stopwords(texts, stop_words):\n",
    "    return [[word for word in simple_preprocess(str(doc)) if word not in stop_words] for doc in texts]"
   ]
  },
  {
   "cell_type": "code",
   "execution_count": 114,
   "id": "018bb786-f5a2-4fe2-8ff1-1178c3681683",
   "metadata": {},
   "outputs": [],
   "source": [
    "def remove_common_words(texts, common_words):\n",
    "    return [[word for word in doc if word not in common_words] for doc in texts]"
   ]
  },
  {
   "cell_type": "code",
   "execution_count": 115,
   "id": "f6018682-c75c-49b9-a1aa-ec62547b3629",
   "metadata": {},
   "outputs": [
    {
     "name": "stderr",
     "output_type": "stream",
     "text": [
      "Warning : `load_model` does not return WordVectorModel or SupervisedModel any more, but a `FastText` object which is very similar.\n"
     ]
    },
    {
     "data": {
      "text/plain": [
       "<spacy_fastlang.LanguageDetector at 0x7f24f62d8880>"
      ]
     },
     "execution_count": 115,
     "metadata": {},
     "output_type": "execute_result"
    }
   ],
   "source": [
    "import spacy_fastlang\n",
    "# Use Fastlang to remove non-english publications\n",
    "nlp = spacy.load(\"en_core_web_lg\", disable=['ner', 'parser', 'senter'])\n",
    "nlp.add_pipe('language_detector', last=True)"
   ]
  },
  {
   "cell_type": "code",
   "execution_count": 116,
   "id": "69738439-798c-4c08-8d4b-458cb76fc211",
   "metadata": {},
   "outputs": [],
   "source": [
    "def lemmatization(texts):\n",
    "    texts_out = []\n",
    "    rm_index = []\n",
    "    for i, sent in enumerate(texts):\n",
    "        doc = nlp(\" \".join(sent))\n",
    "        if doc._.language != 'en':                \n",
    "            rm_index.append(i)\n",
    "            continue\n",
    "        texts_out.append([token.lemma_ for token in doc])\n",
    "    return (texts_out,rm_index)"
   ]
  },
  {
   "cell_type": "code",
   "execution_count": 117,
   "id": "b46a2e4f-40b9-44de-bc79-b42c64c3aea3",
   "metadata": {},
   "outputs": [],
   "source": [
    "def pos_tagger_filter(texts, allowed_postags=['NOUN']):\n",
    "    texts_out = []\n",
    "    for i, sent in enumerate(texts):\n",
    "        doc = nlp(\" \".join(sent), disable=['lemmatizer', 'language_detector'])        \n",
    "        texts_out.append([token.text for token in doc if allowed_postags is None or token.pos_ in allowed_postags])\n",
    "    return texts_out"
   ]
  },
  {
   "cell_type": "code",
   "execution_count": 118,
   "id": "6a4ef193-52b3-4ad5-b0ae-cd9becab89ec",
   "metadata": {},
   "outputs": [
    {
     "data": {
      "text/plain": [
       "['predictability',\n",
       " 'responses',\n",
       " 'environmental',\n",
       " 'predicting',\n",
       " 'communities',\n",
       " 'respond',\n",
       " 'environmental',\n",
       " 'challenging',\n",
       " 'highly',\n",
       " 'relevant',\n",
       " 'global',\n",
       " 'ecologists',\n",
       " 'commonly',\n",
       " 'current',\n",
       " 'spatial',\n",
       " 'relationships',\n",
       " 'environmental',\n",
       " 'conditions',\n",
       " 'make',\n",
       " 'predictions',\n",
       " 'assumes',\n",
       " 'conditions',\n",
       " 'shifting',\n",
       " 'distributions',\n",
       " 'however',\n",
       " 'experimental',\n",
       " 'suggest',\n",
       " 'prevent',\n",
       " 'communities',\n",
       " 'predictably',\n",
       " 'tracking',\n",
       " 'temporal',\n",
       " 'changes',\n",
       " 'environmental',\n",
       " 'conditions',\n",
       " 'basis',\n",
       " 'current',\n",
       " 'spatial',\n",
       " 'relationships',\n",
       " 'environmental',\n",
       " 'gradients',\n",
       " 'tested',\n",
       " 'assessing',\n",
       " 'dynamics',\n",
       " 'protist',\n",
       " 'replicated',\n",
       " 'patch',\n",
       " 'microcosm',\n",
       " 'landscapes',\n",
       " 'experienced',\n",
       " 'different',\n",
       " 'regimes',\n",
       " 'spatial',\n",
       " 'temporal',\n",
       " 'environmental',\n",
       " 'heterogeneity',\n",
       " 'light',\n",
       " 'dark',\n",
       " 'populations',\n",
       " 'kept',\n",
       " 'monocultures',\n",
       " 'polycultures',\n",
       " 'assess',\n",
       " 'monocultures',\n",
       " 'abundances',\n",
       " 'predictable',\n",
       " 'basis',\n",
       " 'current',\n",
       " 'environmental',\n",
       " 'conditions',\n",
       " 'regardless',\n",
       " 'whether',\n",
       " 'populations',\n",
       " 'experienced',\n",
       " 'temporal',\n",
       " 'environmental',\n",
       " 'polycultures',\n",
       " 'abundances',\n",
       " 'depended',\n",
       " 'environmental',\n",
       " 'conditions',\n",
       " 'experienced',\n",
       " 'suggests',\n",
       " 'communities',\n",
       " 'respond',\n",
       " 'differently',\n",
       " 'spatial',\n",
       " 'versus',\n",
       " 'temporal',\n",
       " 'environmental',\n",
       " 'changes',\n",
       " 'likely',\n",
       " 'predictions',\n",
       " 'communities',\n",
       " 'based',\n",
       " 'current',\n",
       " 'spatial',\n",
       " 'relationships',\n",
       " 'environment']"
      ]
     },
     "execution_count": 118,
     "metadata": {},
     "output_type": "execute_result"
    }
   ],
   "source": [
    "# Remove stop words\n",
    "data_words_nostops = remove_stopwords(data_words, stop_words)\n",
    "data_words_nostops = remove_common_words(data_words_nostops, custom_stop_words)\n",
    "data_words_nostops[1]"
   ]
  },
  {
   "cell_type": "code",
   "execution_count": 119,
   "id": "ede31d68-5b88-4fa6-b109-748fbe1134f1",
   "metadata": {},
   "outputs": [
    {
     "data": {
      "text/plain": [
       "13701"
      ]
     },
     "execution_count": 119,
     "metadata": {},
     "output_type": "execute_result"
    }
   ],
   "source": [
    "# Lemmatization before generate n-grams\n",
    "data_lemmatized, rm_index = lemmatization(data_words_nostops)\n",
    "len(data_lemmatized)"
   ]
  },
  {
   "cell_type": "code",
   "execution_count": 120,
   "id": "67b8574c-176c-4706-9e44-0d34b25f0f96",
   "metadata": {},
   "outputs": [
    {
     "data": {
      "text/plain": [
       "(13701, 56)"
      ]
     },
     "execution_count": 120,
     "metadata": {},
     "output_type": "execute_result"
    }
   ],
   "source": [
    "df = df.drop(rm_index)\n",
    "df.shape"
   ]
  },
  {
   "cell_type": "code",
   "execution_count": 121,
   "id": "845db3a1-bb60-40c1-b1b1-b75fe2b16211",
   "metadata": {},
   "outputs": [],
   "source": [
    "df.to_csv(\"data/dimensions/publications-ecology-filtered-13701.csv\")"
   ]
  },
  {
   "cell_type": "code",
   "execution_count": 122,
   "id": "ef7a93ab-c024-4046-a0fe-c9f265accfb0",
   "metadata": {},
   "outputs": [
    {
     "name": "stdout",
     "output_type": "stream",
     "text": [
      "Phrases<903340 vocab, min_count=5, threshold=1, max_vocab_size=40000000>\n"
     ]
    }
   ],
   "source": [
    "# Generate bi-grams from lemmas\n",
    "bigram = gensim.models.Phrases(data_lemmatized, min_count=5,threshold=1) #-1, scoring=\"npmi\")\n",
    "print(bigram)"
   ]
  },
  {
   "cell_type": "code",
   "execution_count": 123,
   "id": "67051e95-0072-49a2-952d-3f4d728117b4",
   "metadata": {},
   "outputs": [
    {
     "name": "stdout",
     "output_type": "stream",
     "text": [
      "['predictability', 'response_environmental', 'predict', 'community_respond', 'environmental_challenge', 'highly_relevant', 'global', 'ecologist', 'commonly', 'current', 'spatial', 'relationship_environmental', 'condition', 'make_prediction', 'assume', 'condition', 'shift_distribution', 'however_experimental', 'suggest', 'prevent', 'community', 'predictably', 'track', 'temporal_change', 'environmental_condition', 'basis', 'current', 'spatial', 'relationship_environmental', 'gradient_test', 'assess', 'dynamic', 'protist', 'replicate', 'patch', 'microcosm', 'landscape', 'experience_different', 'regime', 'spatial_temporal', 'environmental_heterogeneity', 'light_dark', 'population', 'keep', 'monoculture', 'polyculture', 'assess', 'monoculture', 'abundance', 'predictable', 'basis', 'current', 'environmental_condition', 'regardless_whether', 'population_experience', 'temporal', 'environmental', 'polyculture', 'abundance', 'depend_environmental', 'condition_experience', 'suggest', 'community_respond', 'differently', 'spatial', 'versus', 'temporal', 'environmental_change', 'likely', 'prediction', 'community', 'base_current', 'spatial', 'relationship', 'environment']\n"
     ]
    }
   ],
   "source": [
    "bigram_mod = gensim.models.phrases.Phraser(bigram)\n",
    "print(bigram_mod[data_lemmatized[1]])"
   ]
  },
  {
   "cell_type": "code",
   "execution_count": 124,
   "id": "c1cd5d85-0cd7-469e-8704-2099fd8ef6c6",
   "metadata": {},
   "outputs": [
    {
     "name": "stdout",
     "output_type": "stream",
     "text": [
      "Phrases<1184569 vocab, min_count=5, threshold=1, max_vocab_size=40000000>\n"
     ]
    }
   ],
   "source": [
    "trigram = gensim.models.Phrases(bigram[data_lemmatized], threshold=1, min_count=5)\n",
    "print(trigram)"
   ]
  },
  {
   "cell_type": "code",
   "execution_count": 125,
   "id": "3dd017ad-cf39-4f69-8bca-6409ef2828a5",
   "metadata": {},
   "outputs": [
    {
     "name": "stdout",
     "output_type": "stream",
     "text": [
      "['predictability', 'response_environmental', 'predict', 'community_respond', 'environmental_challenge', 'highly_relevant', 'global', 'ecologist', 'commonly', 'current', 'spatial', 'relationship_environmental', 'condition', 'make_prediction', 'assume', 'condition', 'shift_distribution', 'however_experimental', 'suggest', 'prevent', 'community', 'predictably', 'track', 'temporal_change', 'environmental_condition', 'basis', 'current', 'spatial', 'relationship_environmental', 'gradient_test', 'assess', 'dynamic', 'protist', 'replicate', 'patch', 'microcosm', 'landscape', 'experience_different', 'regime', 'spatial_temporal', 'environmental_heterogeneity', 'light_dark', 'population', 'keep', 'monoculture', 'polyculture', 'assess', 'monoculture', 'abundance', 'predictable', 'basis', 'current', 'environmental_condition', 'regardless_whether', 'population_experience', 'temporal', 'environmental', 'polyculture', 'abundance', 'depend_environmental', 'condition_experience', 'suggest', 'community_respond', 'differently', 'spatial', 'versus', 'temporal', 'environmental_change', 'likely', 'prediction', 'community', 'base_current', 'spatial_relationship', 'environment']\n"
     ]
    }
   ],
   "source": [
    "trigram_mod = gensim.models.phrases.Phraser(trigram)\n",
    "print(trigram_mod[bigram_mod[data_lemmatized[1]]])"
   ]
  },
  {
   "cell_type": "code",
   "execution_count": 126,
   "id": "ec67ca6b-cb5c-4de2-b7d8-d0526c6531ca",
   "metadata": {},
   "outputs": [],
   "source": [
    "def make_bigrams(texts):\n",
    "    return [bigram_mod[doc] for doc in texts]"
   ]
  },
  {
   "cell_type": "code",
   "execution_count": 127,
   "id": "53309fe8-a219-4522-973d-f3f1fb83bf43",
   "metadata": {},
   "outputs": [],
   "source": [
    "def make_trigrams(texts):\n",
    "    return [trigram_mod[bigram_mod[doc]] for doc in texts]"
   ]
  },
  {
   "cell_type": "code",
   "execution_count": 128,
   "id": "9ae50c02-4107-492a-947a-6cdc5d088de7",
   "metadata": {},
   "outputs": [
    {
     "data": {
      "text/plain": [
       "[['integrative',\n",
       "  'mechanistic_basis',\n",
       "  'context_dependent',\n",
       "  'long_know',\n",
       "  'outcome',\n",
       "  'environmental_context',\n",
       "  'occur',\n",
       "  'climate',\n",
       "  'spark',\n",
       "  'renew',\n",
       "  'context_dependent',\n",
       "  'rapidly_change',\n",
       "  'abiotic_environment',\n",
       "  'cause',\n",
       "  'occur',\n",
       "  'novel',\n",
       "  'context',\n",
       "  'researcher',\n",
       "  'must_incorporate',\n",
       "  'prediction_response',\n",
       "  'climate',\n",
       "  'argue',\n",
       "  'predict',\n",
       "  'environment',\n",
       "  'outcome',\n",
       "  'require',\n",
       "  'integrative',\n",
       "  'biology',\n",
       "  'focus',\n",
       "  'trait',\n",
       "  'mechanism',\n",
       "  'process',\n",
       "  'bridge',\n",
       "  'discipline',\n",
       "  'physiology',\n",
       "  'biomechanic',\n",
       "  'ecology_evolutionary',\n",
       "  'biology',\n",
       "  'specifically',\n",
       "  'advocate',\n",
       "  'quantifying',\n",
       "  'differ',\n",
       "  'tolerance_environmental',\n",
       "  'challenge',\n",
       "  'independent',\n",
       "  'function',\n",
       "  'environment',\n",
       "  'increase',\n",
       "  'mechanism_underlie',\n",
       "  'outcome',\n",
       "  'across_different',\n",
       "  'environmental_context',\n",
       "  'help_determine',\n",
       "  'outcome',\n",
       "  'affect',\n",
       "  'relative_abundance',\n",
       "  'distribution',\n",
       "  'interact',\n",
       "  'nature',\n",
       "  'general',\n",
       "  'emerge',\n",
       "  'unable',\n",
       "  'maintain_high',\n",
       "  'level',\n",
       "  'across_different',\n",
       "  'environmental_context',\n",
       "  'trade_off',\n",
       "  'physiological_tolerance',\n",
       "  'environmental_challenge',\n",
       "  'integrative',\n",
       "  'biology',\n",
       "  'paradigm',\n",
       "  'focus',\n",
       "  'trade_off',\n",
       "  'across_environment',\n",
       "  'physiological_mechanism',\n",
       "  'involve',\n",
       "  'context',\n",
       "  'impact',\n",
       "  'outcome',\n",
       "  'provide_strong',\n",
       "  'understand',\n",
       "  'context_dependent']]"
      ]
     },
     "execution_count": 128,
     "metadata": {},
     "output_type": "execute_result"
    }
   ],
   "source": [
    "# Form Bigrams\n",
    "data_words_bigrams = make_bigrams(data_lemmatized)\n",
    "data_words_bigrams[:1][:10]"
   ]
  },
  {
   "cell_type": "code",
   "execution_count": 129,
   "id": "930bcd73-aea3-4cec-9e1b-403143b8fbc3",
   "metadata": {},
   "outputs": [
    {
     "data": {
      "text/plain": [
       "[['integrative',\n",
       "  'mechanistic_basis',\n",
       "  'context_dependent',\n",
       "  'long_know',\n",
       "  'outcome',\n",
       "  'environmental_context',\n",
       "  'occur',\n",
       "  'climate',\n",
       "  'spark',\n",
       "  'renew',\n",
       "  'context_dependent',\n",
       "  'rapidly_change',\n",
       "  'abiotic_environment',\n",
       "  'cause',\n",
       "  'occur',\n",
       "  'novel',\n",
       "  'context',\n",
       "  'researcher',\n",
       "  'must_incorporate',\n",
       "  'prediction_response_climate',\n",
       "  'argue',\n",
       "  'predict',\n",
       "  'environment',\n",
       "  'outcome',\n",
       "  'require',\n",
       "  'integrative',\n",
       "  'biology',\n",
       "  'focus',\n",
       "  'trait',\n",
       "  'mechanism',\n",
       "  'process',\n",
       "  'bridge',\n",
       "  'discipline',\n",
       "  'physiology',\n",
       "  'biomechanic',\n",
       "  'ecology_evolutionary_biology',\n",
       "  'specifically',\n",
       "  'advocate',\n",
       "  'quantifying',\n",
       "  'differ',\n",
       "  'tolerance_environmental',\n",
       "  'challenge',\n",
       "  'independent',\n",
       "  'function',\n",
       "  'environment',\n",
       "  'increase',\n",
       "  'mechanism_underlie',\n",
       "  'outcome',\n",
       "  'across_different',\n",
       "  'environmental_context',\n",
       "  'help_determine',\n",
       "  'outcome',\n",
       "  'affect',\n",
       "  'relative_abundance',\n",
       "  'distribution',\n",
       "  'interact',\n",
       "  'nature',\n",
       "  'general',\n",
       "  'emerge',\n",
       "  'unable',\n",
       "  'maintain_high_level',\n",
       "  'across_different',\n",
       "  'environmental_context',\n",
       "  'trade_off',\n",
       "  'physiological_tolerance',\n",
       "  'environmental_challenge',\n",
       "  'integrative',\n",
       "  'biology',\n",
       "  'paradigm',\n",
       "  'focus',\n",
       "  'trade_off',\n",
       "  'across_environment',\n",
       "  'physiological_mechanism',\n",
       "  'involve',\n",
       "  'context',\n",
       "  'impact',\n",
       "  'outcome',\n",
       "  'provide_strong',\n",
       "  'understand',\n",
       "  'context_dependent']]"
      ]
     },
     "execution_count": 129,
     "metadata": {},
     "output_type": "execute_result"
    }
   ],
   "source": [
    "# Form Trigrams\n",
    "data_words_trigrams = make_trigrams(data_words_bigrams)\n",
    "data_words_trigrams[:1][:10]"
   ]
  },
  {
   "cell_type": "code",
   "execution_count": 130,
   "id": "d16da3f9-91d9-4f51-9dc9-f898b909efc7",
   "metadata": {},
   "outputs": [],
   "source": [
    "data_postag_filtered = pos_tagger_filter(data_words_trigrams, allowed_postags=[\"NOUN\",\"ADJ\"])"
   ]
  },
  {
   "cell_type": "code",
   "execution_count": 131,
   "id": "1c8645c8-7ddb-4e48-8ce9-64e3f7cb1c13",
   "metadata": {},
   "outputs": [
    {
     "data": {
      "text/plain": [
       "['predictability',\n",
       " 'response_environmental',\n",
       " 'global',\n",
       " 'ecologist',\n",
       " 'current',\n",
       " 'spatial',\n",
       " 'condition',\n",
       " 'shift_distribution',\n",
       " 'community',\n",
       " 'temporal_change']"
      ]
     },
     "execution_count": 131,
     "metadata": {},
     "output_type": "execute_result"
    }
   ],
   "source": [
    "data_postag_filtered[1][:10]"
   ]
  },
  {
   "cell_type": "code",
   "execution_count": 132,
   "id": "c915b2a7-3c29-4cff-bb66-ada387554206",
   "metadata": {},
   "outputs": [],
   "source": [
    "data_final = remove_common_words(data_postag_filtered, custom_stop_words)\n",
    "#data_lemmatized_nocommon=data_words_trigrams"
   ]
  },
  {
   "cell_type": "code",
   "execution_count": 133,
   "id": "5702ad23-8793-44b6-ab80-f8b282521147",
   "metadata": {},
   "outputs": [
    {
     "name": "stdout",
     "output_type": "stream",
     "text": [
      "['predictability', 'response_environmental', 'global', 'ecologist', 'current', 'spatial', 'shift_distribution', 'temporal_change', 'environmental_condition', 'basis', 'current', 'spatial', 'relationship_environmental', 'dynamic', 'protist', 'patch', 'microcosm', 'landscape', 'regime', 'spatial_temporal', 'light_dark', 'monoculture', 'polyculture', 'monoculture', 'abundance', 'predictable', 'basis', 'current', 'environmental_condition', 'population_experience', 'temporal', 'environmental', 'polyculture', 'abundance', 'depend_environmental', 'community_respond', 'spatial', 'temporal', 'environmental_change', 'likely', 'prediction', 'base_current', 'spatial_relationship', 'environment']\n"
     ]
    }
   ],
   "source": [
    "print(data_final[1])"
   ]
  },
  {
   "cell_type": "code",
   "execution_count": 142,
   "id": "248b56ad-1763-4626-bc49-309adaebd969",
   "metadata": {},
   "outputs": [
    {
     "name": "stdout",
     "output_type": "stream",
     "text": [
      "Dictionary<42894 unique tokens: ['abiotic_environment', 'across_environment', 'biology', 'bridge', 'cause']...>\n"
     ]
    }
   ],
   "source": [
    "# LDA\n",
    "id2word = corpora.Dictionary(data_final)\n",
    "print(id2word)"
   ]
  },
  {
   "cell_type": "code",
   "execution_count": 135,
   "id": "4079ea12-d949-49bb-9f42-31e490eab174",
   "metadata": {},
   "outputs": [],
   "source": [
    "texts  = data_final"
   ]
  },
  {
   "cell_type": "markdown",
   "id": "b369cbb6-c3c7-4eb7-a0b8-425ddbc7b1ec",
   "metadata": {},
   "source": [
    "## Save dictionary and texts"
   ]
  },
  {
   "cell_type": "code",
   "execution_count": 136,
   "id": "28e91d9f-d605-4b1b-9609-06f108e72d73",
   "metadata": {},
   "outputs": [],
   "source": [
    "# Save dictionary\n",
    "id2word.save('./data/m-uniq/id2word')\n",
    "with open(\"./data/m-uniq/texts.pkl\",\"wb\") as f:\n",
    "    pickle.dump(texts,f)"
   ]
  },
  {
   "cell_type": "markdown",
   "id": "dd535a04-297e-4757-bb49-9901c9bf9733",
   "metadata": {},
   "source": [
    "## Create BOW and Corpus"
   ]
  },
  {
   "cell_type": "code",
   "execution_count": 137,
   "id": "0caad009-dccc-4196-b674-b94ecab6dba6",
   "metadata": {},
   "outputs": [
    {
     "name": "stdout",
     "output_type": "stream",
     "text": [
      "Len: 13701 Min freq: 137.01\n"
     ]
    }
   ],
   "source": [
    "min_freq = 0.01*len(texts)\n",
    "print(f\"Len: {len(texts)} Min freq: {min_freq}\")"
   ]
  },
  {
   "cell_type": "code",
   "execution_count": 138,
   "id": "11a9a451-b470-4367-bba8-4d8b5f0714ef",
   "metadata": {},
   "outputs": [
    {
     "name": "stdout",
     "output_type": "stream",
     "text": [
      "Dictionary<690 unique tokens: ['biology', 'cause', 'climate', 'context', 'distribution']...>\n"
     ]
    }
   ],
   "source": [
    "id2word.filter_extremes(no_below=min_freq,no_above=0.9, keep_n=None)\n",
    "print(id2word)"
   ]
  },
  {
   "cell_type": "code",
   "execution_count": 139,
   "id": "0e2f6e18-62f6-440c-8e36-210cd1f84d4b",
   "metadata": {},
   "outputs": [
    {
     "name": "stdout",
     "output_type": "stream",
     "text": [
      "Dictionary<690 unique tokens: ['biology', 'cause', 'climate', 'context', 'distribution']...>\n"
     ]
    }
   ],
   "source": [
    "id2word.save('./data/m-uniq/id2word-extremes')\n",
    "print(id2word)"
   ]
  },
  {
   "cell_type": "code",
   "execution_count": 46,
   "id": "a37b4953-6dda-4f3d-a814-c790bde1ebfd",
   "metadata": {},
   "outputs": [],
   "source": [
    "corpus = [id2word.doc2bow(text) for text in texts]"
   ]
  },
  {
   "cell_type": "code",
   "execution_count": 141,
   "id": "97a2daf1-3d07-4755-993b-20e8b1648653",
   "metadata": {},
   "outputs": [
    {
     "name": "stdout",
     "output_type": "stream",
     "text": [
      "Number of unique tokens: 690\n"
     ]
    },
    {
     "ename": "NameError",
     "evalue": "name 'corpus' is not defined",
     "output_type": "error",
     "traceback": [
      "\u001b[0;31m---------------------------------------------------------------------------\u001b[0m",
      "\u001b[0;31mNameError\u001b[0m                                 Traceback (most recent call last)",
      "Cell \u001b[0;32mIn[141], line 2\u001b[0m\n\u001b[1;32m      1\u001b[0m \u001b[38;5;28mprint\u001b[39m(\u001b[38;5;124mf\u001b[39m\u001b[38;5;124m'\u001b[39m\u001b[38;5;124mNumber of unique tokens: \u001b[39m\u001b[38;5;132;01m{\u001b[39;00m\u001b[38;5;28mlen\u001b[39m(id2word)\u001b[38;5;132;01m}\u001b[39;00m\u001b[38;5;124m'\u001b[39m)\n\u001b[0;32m----> 2\u001b[0m \u001b[38;5;28mprint\u001b[39m(\u001b[38;5;124mf\u001b[39m\u001b[38;5;124m'\u001b[39m\u001b[38;5;124mNumber of documents: \u001b[39m\u001b[38;5;132;01m{\u001b[39;00m\u001b[38;5;28mlen\u001b[39m(corpus)\u001b[38;5;132;01m}\u001b[39;00m\u001b[38;5;124m'\u001b[39m)\n",
      "\u001b[0;31mNameError\u001b[0m: name 'corpus' is not defined"
     ]
    }
   ],
   "source": [
    "print(f'Number of unique tokens: {len(id2word)}')\n",
    "print(f'Number of documents: {len(corpus)}')"
   ]
  },
  {
   "cell_type": "code",
   "execution_count": null,
   "id": "9135487b-07d2-40ea-8805-2236c275dd68",
   "metadata": {},
   "outputs": [],
   "source": [
    "def fit_lda(corpus, texts, id2word, k, a, b, corpus_test):\n",
    "    lda_model = gensim.models.ldamulticore.LdaMulticore(corpus=corpus,\n",
    "                                                id2word=id2word,\n",
    "                                                num_topics=k,\n",
    "                                                random_state=1234,\n",
    "                                                iterations=50,\n",
    "                                                chunksize=10000,\n",
    "                                                passes=1,\n",
    "                                                alpha=a,\n",
    "                                                eta=b,                                                        \n",
    "                                                per_word_topics=True)\n",
    "    cv = CoherenceModel(model=lda_model, texts=texts,corpus=corpus, dictionary=id2word, coherence='c_v')\n",
    "    umass = CoherenceModel(model=lda_model, texts=texts,corpus=corpus, dictionary=id2word, coherence='u_mass')\n",
    "    perp = lda_model.log_perplexity(corpus_test)\n",
    "    return (cv.get_coherence(),umass.get_coherence, perp)"
   ]
  },
  {
   "cell_type": "code",
   "execution_count": null,
   "id": "ac671257-0ce1-4575-9632-52ab9655ecf2",
   "metadata": {},
   "outputs": [],
   "source": [
    "import os\n",
    "os.environ[\"TOKENIZERS_PARALLELISM\"] = \"false\""
   ]
  },
  {
   "cell_type": "code",
   "execution_count": null,
   "id": "1da04301-cb26-4822-82d4-cfda9dc3bf64",
   "metadata": {},
   "outputs": [],
   "source": [
    "!pip install --upgrade tqdm"
   ]
  },
  {
   "cell_type": "code",
   "execution_count": null,
   "id": "d04998cb-ad07-4814-94cb-dbce498ea64c",
   "metadata": {},
   "outputs": [],
   "source": [
    "import tqdm"
   ]
  },
  {
   "cell_type": "code",
   "execution_count": null,
   "id": "6a8f8eea-725f-4adc-80df-11cd79a5134b",
   "metadata": {},
   "outputs": [],
   "source": [
    "# Topics range\n",
    "topics_range = range(2,50,2)"
   ]
  },
  {
   "cell_type": "code",
   "execution_count": null,
   "id": "dbfa86a0-27bf-415c-8688-0541763a39c4",
   "metadata": {},
   "outputs": [],
   "source": [
    "# Alpha parameter\n",
    "alpha = [0.05,0.1,0.5,1.5,10]\n",
    "alpha.append(\"symmetric\")"
   ]
  },
  {
   "cell_type": "code",
   "execution_count": null,
   "id": "af0c2ee0-dfc8-48c1-bd8a-88069b7ca17a",
   "metadata": {},
   "outputs": [],
   "source": [
    "# Beta parameter\n",
    "beta = [0.05,0.1,0.5,1.5,10]\n",
    "beta.append(\"symmetric\")"
   ]
  },
  {
   "cell_type": "code",
   "execution_count": null,
   "id": "20181612-9c5b-46c8-8550-c6d62e26633f",
   "metadata": {},
   "outputs": [],
   "source": [
    "# Validation set\n",
    "models_results = {\n",
    "    'Topics': [],\n",
    "    'Alpha': [],\n",
    "    'Beta': [],\n",
    "    'CV': [],\n",
    "    'UMASS': [],\n",
    "    'PERP': []\n",
    "}"
   ]
  },
  {
   "cell_type": "code",
   "execution_count": null,
   "id": "81765182-822c-46ee-bc3f-87b011e4b90a",
   "metadata": {},
   "outputs": [],
   "source": [
    "# Train documents\n",
    "train_docs=df.groupby(\"GROUP\").sample(frac=0.75,random_state=200)\n",
    "idx = train_docs.index.to_numpy()"
   ]
  },
  {
   "cell_type": "code",
   "execution_count": null,
   "id": "1466453c-6c6a-4320-a744-0a6f865047b4",
   "metadata": {},
   "outputs": [],
   "source": [
    "train_texts = [texts[i] for i in idx]\n",
    "len(train_texts)"
   ]
  },
  {
   "cell_type": "code",
   "execution_count": null,
   "id": "da8dbccb-5cd1-4ab6-8019-9bdaf5cc0b37",
   "metadata": {},
   "outputs": [],
   "source": [
    "train_corpus = [id2word.doc2bow(text) for text in train_texts]"
   ]
  },
  {
   "cell_type": "code",
   "execution_count": null,
   "id": "b73adb23-364f-47e5-88c1-82953b72d3d0",
   "metadata": {},
   "outputs": [],
   "source": [
    "# Test documents\n",
    "test_docs=df.drop(train_docs.index)\n",
    "len(test_docs)"
   ]
  },
  {
   "cell_type": "code",
   "execution_count": null,
   "id": "b9de163b-59fb-4bc5-8543-793fc905b00d",
   "metadata": {},
   "outputs": [],
   "source": [
    "test_texts = [texts[i] for i in range(0,len(texts)) if i not in idx]\n",
    "len(test_texts)"
   ]
  },
  {
   "cell_type": "code",
   "execution_count": null,
   "id": "33c0ac6f-7623-4449-b3ca-723efbfba123",
   "metadata": {},
   "outputs": [],
   "source": [
    "text_corpus = [id2word.doc2bow(text) for text in test_texts]\n",
    "len(text_corpus)"
   ]
  },
  {
   "cell_type": "code",
   "execution_count": null,
   "id": "0e804ff4-4901-4cc0-91ed-d76cca3fdc3c",
   "metadata": {},
   "outputs": [],
   "source": [
    "pbar = tqdm.tqdm(total=len(topics_range)*len(alpha)*len(beta))"
   ]
  },
  {
   "cell_type": "code",
   "execution_count": null,
   "id": "9a030908-0957-473a-ad8b-3ed4ddcb3a3c",
   "metadata": {},
   "outputs": [],
   "source": [
    "for k in topics_range:\n",
    "    for a in alpha:\n",
    "        for b in beta:                        \n",
    "            (cv,umass,perp) = fit_lda(corpus=corpus,texts=texts, id2word=id2word,k=k,a=a,b=b)            \n",
    "            models_results['Topics'].append(k)\n",
    "            models_results['Alpha'].append(a)\n",
    "            models_results['Beta'].append(b)\n",
    "            models_results['CV'].append(cv)\n",
    "            models_results['UMASS'].append(umass)\n",
    "            models_results['PERP'].append(perp)\n",
    "\n",
    "            pbar.update(1)"
   ]
  },
  {
   "cell_type": "code",
   "execution_count": null,
   "id": "3981426b-db93-4e33-87ca-cfa4b10f0b95",
   "metadata": {},
   "outputs": [],
   "source": [
    "pd.DataFrame(models_results).to_csv('./data/lda_tuning_test.csv', index=False)\n",
    "pbar.close()"
   ]
  }
 ],
 "metadata": {
  "kernelspec": {
   "display_name": ".myenv",
   "language": "python",
   "name": ".myenv"
  },
  "language_info": {
   "codemirror_mode": {
    "name": "ipython",
    "version": 3
   },
   "file_extension": ".py",
   "mimetype": "text/x-python",
   "name": "python",
   "nbconvert_exporter": "python",
   "pygments_lexer": "ipython3",
   "version": "3.8.10"
  }
 },
 "nbformat": 4,
 "nbformat_minor": 5
}
